{
 "cells": [
  {
   "cell_type": "markdown",
   "metadata": {},
   "source": [
    "### BlackScholes delta hedging ###\n",
    "\n",
    "A Python function which calculates the terminal profit or loss from a strategy which involves selling a European call or put option at time 0 and hedging it by a Black/Scholes delta-hedging strategy with rebalancing at discrete time points.\n",
    "\n",
    "The function takes six arguments (in this order): \n",
    " \n",
    "S, K, sigma, r, T and a 1 for a call or -1 for a put. \n",
    "\n",
    "Note that here, S is a NumPy array of underlying stock prices"
   ]
  },
  {
   "cell_type": "code",
   "execution_count": 2,
   "metadata": {},
   "outputs": [
    {
     "name": "stdout",
     "output_type": "stream",
     "text": [
      "Enter the strike price: 100\n",
      "Enter 1 for call or -1 for put option: 1\n",
      "The profit/loss from the hedged option position is 3.7001921391495163\n"
     ]
    }
   ],
   "source": [
    "### a Python function which calculates the terminal profit or loss from a strategy which involves \n",
    "### selling a European call or put option at time 0 and hedging it by a Black/Scholes delta-hedging strategy \n",
    "### with rebalancing at discrete time points \n",
    "### The function takes six arguments (in this order): \n",
    "### S, K, sigma, r, T and a 1 for a call or -1 for a put. \n",
    "### Note that here, S is a NumPy array of underlying stock prices\n",
    "\n",
    "import numpy as np\n",
    "import pandas as pd\n",
    "from scipy.stats import norm\n",
    "import warnings\n",
    "warnings.filterwarnings('ignore')\n",
    "\n",
    "def BlackScholesHedgePath(S,K,sgm,r,T,callput):\n",
    "    \n",
    "    running_pnl = 0\n",
    "    \n",
    "    for i in range(1, len(S)):\n",
    "        a = (T/(len(S)-1))*i\n",
    "        d1 = (np.log(S[i] / K) + (r + ((sgm**2)/2))*((T-a))) / (sgm * (np.sqrt((T-a))))\n",
    "        d2 = d1 - (sgm * (np.sqrt((T-a))))\n",
    "        \n",
    "        b = (T/(len(S)-1)) * (i-1)\n",
    "        d3 = (np.log(S[i-1] / K) + (r + ((sgm**2)/2))*((T-b))) / (sgm * (np.sqrt((T-b))))\n",
    "        d4 = d3 - (sgm * (np.sqrt((T-b))))\n",
    "        \n",
    "        if i < len(S):\n",
    "            \n",
    "            S_i = S[i] * (norm.cdf(d3) - norm.cdf(d1))\n",
    "            K_i = K * np.exp(-r*(T-a)) * (norm.cdf(d4) - norm.cdf(d2))\n",
    "            \n",
    "            if callput == 1:\n",
    "                pnl = (S_i - K_i)\n",
    "            elif callput == -1:\n",
    "                pnl = (K_i - S_i)\n",
    "                \n",
    "            running_pnl += (pnl * np.exp(r*(T-a)))\n",
    "            \n",
    "        elif i == len(S):\n",
    "            S_i = S.iloc[i,1] * norm.cdf(d3)\n",
    "            K_i = K * norm.cdf(d4)\n",
    "            \n",
    "            if callput == 1:\n",
    "                pnl = (S_i - K_i - max(0, S[i] - K))\n",
    "            elif callput == -1:\n",
    "                pnl = (K_i - S_i - max(0,   K- S[i]))\n",
    "                \n",
    "            running_pnl += pnl\n",
    "            \n",
    "    return running_pnl\n",
    "\n",
    "\n",
    "if __name__ == '__main__':\n",
    "    stockdata = pd.read_csv('price_path.csv')\n",
    "    stock = np.array(stockdata['S(t)'])\n",
    "    strike = float(input('Enter the strike price: '))\n",
    "    sigma = 0.3\n",
    "    interest = 0.05\n",
    "    maturity = 2\n",
    "    callput = int(input('Enter 1 for call or -1 for put option: '))\n",
    "    PnL = BlackScholesHedgePath(stock,strike,sigma,interest,maturity,callput)\n",
    "    print('The profit/loss from the hedged option position is '+str(PnL))"
   ]
  },
  {
   "cell_type": "code",
   "execution_count": null,
   "metadata": {},
   "outputs": [],
   "source": []
  }
 ],
 "metadata": {
  "kernelspec": {
   "display_name": "Python 3",
   "language": "python",
   "name": "python3"
  },
  "language_info": {
   "codemirror_mode": {
    "name": "ipython",
    "version": 3
   },
   "file_extension": ".py",
   "mimetype": "text/x-python",
   "name": "python",
   "nbconvert_exporter": "python",
   "pygments_lexer": "ipython3",
   "version": "3.7.4"
  }
 },
 "nbformat": 4,
 "nbformat_minor": 2
}
