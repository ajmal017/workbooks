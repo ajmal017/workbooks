{
 "cells": [
  {
   "cell_type": "markdown",
   "metadata": {},
   "source": [
    "### Implied Vol using scipy root search function ###\n",
    "\n",
    "Implied volatility cannot be obtained by algebraically solving the Black/Scholes formula for volatility - this is not analytically possible. Therefore, Black/Scholes implied volatility must be obtained numerically using a root search. The SciPy package provides a root search routine for Python, which for a user-defined function finds the function argument which results in a zero function value. "
   ]
  },
  {
   "cell_type": "code",
   "execution_count": 1,
   "metadata": {},
   "outputs": [
    {
     "name": "stdout",
     "output_type": "stream",
     "text": [
      "Enter the underlying stock price: 100\n",
      "Enter the strike price: 100\n",
      "Enter continuously compounded interest rate: 0.05\n",
      "Enter the time to maturity: 2\n",
      "Enter 1 for call or -1 for put option: 1\n",
      "Enter the option price: 22.7251160722058\n",
      "The implied volatility is: \n",
      "0.33000000000000007\n"
     ]
    }
   ],
   "source": [
    "# Implied Vol using scipy root search function\n",
    "\n",
    "import numpy as np\n",
    "from scipy.stats import norm\n",
    "from scipy import optimize\n",
    "\n",
    "def BlackScholes(sgm,S,K,r,T,callput):\n",
    "    \n",
    "    d1 = (np.log(S/K)+(r+0.5*sgm*sgm)*T)/(sgm*np.sqrt(T))\n",
    "    d2 = d1 - sgm* (np.sqrt(T))\n",
    "    #call\n",
    "    Call = S * norm.cdf(d1) - K * np.exp(-r * T) * norm.cdf(d2)\n",
    "    #Put\n",
    "    Put = -S * norm.cdf(-d1) + K * np.exp(-r * T) * norm.cdf(-d2)\n",
    "    \n",
    "    if callput == 1:\n",
    "        return Call\n",
    "    else:\n",
    "        return Put\n",
    "def d1(sgm,S,K,r,T):\n",
    "    d1 = (np.log(S/K)+(r+0.5*sgm*sgm)*T)/(sgm*np.sqrt(T))\n",
    "    return d1\n",
    "\n",
    "def BlackScholesImpVol(S,K,r,T,callput,price):\n",
    "\n",
    "    \n",
    "    def function_value(vol,S,K,r,T,callput,price):\n",
    "        sigma_1 = price - BlackScholes(vol,S,K,r,T,callput)\n",
    "        return sigma_1 \n",
    "    \n",
    "    sol = optimize.root_scalar(function_value, bracket=[-10000,10000], args=(S,K,r,T,callput,price))\n",
    "\n",
    "\n",
    "    return (sol.root)\n",
    "\n",
    "\n",
    "if __name__ == '__main__':\n",
    "    stock = float(input('Enter the underlying stock price: '))\n",
    "    strike = float(input('Enter the strike price: '))\n",
    "    interest = float(input('Enter continuously compounded interest rate: '))\n",
    "    maturity = float(input('Enter the time to maturity: '))\n",
    "    callput = int(input('Enter 1 for call or -1 for put option: '))\n",
    "    price = float(input('Enter the option price: '))\n",
    "    print('The implied volatility is: ')\n",
    "    print(BlackScholesImpVol(stock,strike,interest,maturity,callput,price))\n",
    "    # BlackScholesImpVol(100,100,0.05,2,1,22.7251160722058)"
   ]
  },
  {
   "cell_type": "code",
   "execution_count": null,
   "metadata": {},
   "outputs": [],
   "source": []
  }
 ],
 "metadata": {
  "kernelspec": {
   "display_name": "Python 3",
   "language": "python",
   "name": "python3"
  },
  "language_info": {
   "codemirror_mode": {
    "name": "ipython",
    "version": 3
   },
   "file_extension": ".py",
   "mimetype": "text/x-python",
   "name": "python",
   "nbconvert_exporter": "python",
   "pygments_lexer": "ipython3",
   "version": "3.7.4"
  }
 },
 "nbformat": 4,
 "nbformat_minor": 2
}
